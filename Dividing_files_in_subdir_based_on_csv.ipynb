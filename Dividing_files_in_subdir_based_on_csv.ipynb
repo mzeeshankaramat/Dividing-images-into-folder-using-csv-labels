{
  "nbformat": 4,
  "nbformat_minor": 0,
  "metadata": {
    "colab": {
      "name": "dividing files in subdir based on csv.ipynb",
      "provenance": [],
      "collapsed_sections": []
    },
    "kernelspec": {
      "name": "python3",
      "display_name": "Python 3"
    }
  },
  "cells": [
    {
      "cell_type": "code",
      "metadata": {
        "id": "Pb71LGyvSeJU"
      },
      "source": [
        "import pandas as pd\n",
        "import shutil\n",
        "import os\n",
        "import sys\n"
      ],
      "execution_count": null,
      "outputs": []
    },
    {
      "cell_type": "code",
      "metadata": {
        "id": "kKmzf_dVb7vv"
      },
      "source": [
        "from IPython.display import Image\n",
        "try:\n",
        "  filename = take_photo()\n",
        "  print('Saved to {}'.format(filename))\n",
        "  \n",
        "  # Show the image which was just taken.\n",
        "  display(Image(filename))\n",
        "except Exception as err:\n",
        "  # Errors will be thrown if the user does not have a webcam or if they do not\n",
        "  # grant the page permission to access it.\n",
        "  print(str(err))"
      ],
      "execution_count": null,
      "outputs": []
    },
    {
      "cell_type": "code",
      "metadata": {
        "id": "0cBvbQpzTaPf",
        "colab": {
          "base_uri": "https://localhost:8080/",
          "height": 34
        },
        "outputId": "f0e9d833-bb84-45c2-89eb-8359027e206e"
      },
      "source": [
        "%cd /content/drive/My Drive/B-All/B-ALL/Test_prelim_phase"
      ],
      "execution_count": null,
      "outputs": [
        {
          "output_type": "stream",
          "text": [
            "/content/drive/My Drive/B-All/B-ALL/Test_prelim_phase\n"
          ],
          "name": "stdout"
        }
      ]
    },
    {
      "cell_type": "code",
      "metadata": {
        "id": "v5pZDXAdSuk_"
      },
      "source": [
        "\n",
        "labels = pd.read_csv('C-NMC_test_prelim_phase_data_labels.csv')    ###read csv"
      ],
      "execution_count": null,
      "outputs": []
    },
    {
      "cell_type": "code",
      "metadata": {
        "id": "sS-s3E6KUK7j",
        "colab": {
          "base_uri": "https://localhost:8080/",
          "height": 119
        },
        "outputId": "b1c9f728-9904-478f-87a0-45e1d8d1500c"
      },
      "source": [
        "print(labels[0:5])"
      ],
      "execution_count": null,
      "outputs": [
        {
          "output_type": "stream",
          "text": [
            "  new_names labels\n",
            "0     1.bmp    all\n",
            "1     2.bmp    all\n",
            "2     3.bmp    all\n",
            "3     4.bmp    hem\n",
            "4     5.bmp    all\n"
          ],
          "name": "stdout"
        }
      ]
    },
    {
      "cell_type": "code",
      "metadata": {
        "id": "Ooi0c60PUV9Y"
      },
      "source": [
        "del labels['Patient_ID']   ###removing unnecessary columns"
      ],
      "execution_count": null,
      "outputs": []
    },
    {
      "cell_type": "code",
      "metadata": {
        "id": "bpBRpnS_UtVR"
      },
      "source": [
        "labels[\"labels\"]=labels[\"labels\"].replace({0:'hem',1:'all'})   ##replacing labels with numbers"
      ],
      "execution_count": null,
      "outputs": []
    },
    {
      "cell_type": "code",
      "metadata": {
        "id": "-WP2sRxPSy8a"
      },
      "source": [
        "train_dir = '/content/drive/My Drive/B-All/B-ALL/Test_prelim_phase/Test_data'   ### original directory containing all data\n",
        "train_sep_dir = '/content/drive/My Drive/B-All/B-ALL/Test_prelim_phase/Test_data_sep'  ###data seperated into classes"
      ],
      "execution_count": null,
      "outputs": []
    },
    {
      "cell_type": "code",
      "metadata": {
        "id": "_Z3J2kDnS36H"
      },
      "source": [
        "if not os.path.exists(train_sep_dir):\n",
        "    os.mkdir(train_sep_dir)\n"
      ],
      "execution_count": null,
      "outputs": []
    },
    {
      "cell_type": "code",
      "metadata": {
        "id": "MqPySNtsS-nF"
      },
      "source": [
        "for filename, class_name in labels.values:\n",
        "    # Create subdirectory with `class_name`\n",
        "    if not os.path.exists(train_sep_dir + '/'+class_name):\n",
        "        os.mkdir(train_sep_dir + '/'+class_name)\n",
        "    src_path = train_dir +'/'+ filename\n",
        "    dst_path = train_sep_dir +'/'+ class_name + '/' + filename\n",
        "    try:\n",
        "        shutil.copy(src_path, dst_path)\n",
        "    except IOError as e:\n",
        "        print('Unable to copy file {} to {}'\n",
        "              .format(src_path, dst_path))\n",
        "    except:\n",
        "        print('When try copy file {} to {}, unexpected error: {}'\n",
        "              .format(src_path, dst_path, sys.exc_info()))"
      ],
      "execution_count": null,
      "outputs": []
    }
  ]
}